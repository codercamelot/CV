{
  "nbformat": 4,
  "nbformat_minor": 0,
  "metadata": {
    "colab": {
      "provenance": [],
      "authorship_tag": "ABX9TyORucWbv9CykSu6/tJP3och",
      "include_colab_link": true
    },
    "kernelspec": {
      "name": "python3",
      "display_name": "Python 3"
    },
    "language_info": {
      "name": "python"
    }
  },
  "cells": [
    {
      "cell_type": "markdown",
      "metadata": {
        "id": "view-in-github",
        "colab_type": "text"
      },
      "source": [
        "<a href=\"https://colab.research.google.com/github/codercamelot/CV/blob/main/python%20slicing.ipynb\" target=\"_parent\"><img src=\"https://colab.research.google.com/assets/colab-badge.svg\" alt=\"Open In Colab\"/></a>"
      ]
    },
    {
      "cell_type": "code",
      "execution_count": 19,
      "metadata": {
        "colab": {
          "base_uri": "https://localhost:8080/",
          "height": 35
        },
        "id": "mqK4EIKLTYCX",
        "outputId": "e2279275-c9d1-4a4c-ee27-38913e830088"
      },
      "outputs": [
        {
          "output_type": "execute_result",
          "data": {
            "text/plain": [
              "'abcdefghi'"
            ],
            "application/vnd.google.colaboratory.intrinsic+json": {
              "type": "string"
            }
          },
          "metadata": {},
          "execution_count": 19
        }
      ],
      "source": [
        "str1 = 'abcdefghij'\n",
        "\n",
        "str1[::]\n",
        "str1[:10:]\n",
        "str1[-10:-1:1]\n"
      ]
    },
    {
      "cell_type": "code",
      "source": [
        "str2 = \"construction\"\n",
        "\n",
        "print(len(str2))\n",
        "print(str2[0:12:1])\n",
        "print(str2[-1:-13:-1])\n",
        "print(str2[1:5:2]"
      ],
      "metadata": {
        "colab": {
          "base_uri": "https://localhost:8080/",
          "height": 89
        },
        "id": "-xbnq36BV_Jt",
        "outputId": "9222a620-d645-4862-cac7-177a6d14e58f"
      },
      "execution_count": 15,
      "outputs": [
        {
          "output_type": "stream",
          "name": "stdout",
          "text": [
            "12\n",
            "construction\n",
            "noitcurtsnoc\n"
          ]
        },
        {
          "output_type": "execute_result",
          "data": {
            "text/plain": [
              "'os'"
            ],
            "application/vnd.google.colaboratory.intrinsic+json": {
              "type": "string"
            }
          },
          "metadata": {},
          "execution_count": 15
        }
      ]
    },
    {
      "cell_type": "code",
      "source": [
        "tup1=('monday','tuesday','wednesday','thursday','friday')\n",
        "print(tup1[0:5:1])\n",
        "print(tup1[-1:-6:-1])\n",
        "print(tup1[-5::1])\n",
        "print(tup1[4::-1])"
      ],
      "metadata": {
        "colab": {
          "base_uri": "https://localhost:8080/"
        },
        "id": "OGqsClgGXDbc",
        "outputId": "4c845c7d-99e4-476a-ce80-e546d8cc1b4a"
      },
      "execution_count": 18,
      "outputs": [
        {
          "output_type": "stream",
          "name": "stdout",
          "text": [
            "('monday', 'tuesday', 'wednesday', 'thursday', 'friday')\n",
            "('friday', 'thursday', 'wednesday', 'tuesday', 'monday')\n",
            "('monday', 'tuesday', 'wednesday', 'thursday', 'friday')\n",
            "('friday', 'thursday', 'wednesday', 'tuesday', 'monday')\n"
          ]
        }
      ]
    },
    {
      "cell_type": "code",
      "source": [
        "lst2=[[1,2,3,4,5],\n",
        "      ('a','b','c','d'),\n",
        "      True, False, 3.14, -2+7j]\n",
        "lst2"
      ],
      "metadata": {
        "colab": {
          "base_uri": "https://localhost:8080/"
        },
        "id": "_MX0krm3bvWj",
        "outputId": "53fec811-c8e1-4719-e2c8-1ad9cf1ef05b"
      },
      "execution_count": 23,
      "outputs": [
        {
          "output_type": "execute_result",
          "data": {
            "text/plain": [
              "[[1, 2, 3, 4, 5], ('a', 'b', 'c', 'd'), True, False, 3.14, (-2+7j)]"
            ]
          },
          "metadata": {},
          "execution_count": 23
        }
      ]
    },
    {
      "cell_type": "code",
      "source": [
        "lst2[1][2]\n"
      ],
      "metadata": {
        "colab": {
          "base_uri": "https://localhost:8080/",
          "height": 35
        },
        "id": "O16V-9WWcXwJ",
        "outputId": "67083e05-3473-43ab-bb91-8c82cc248fd5"
      },
      "execution_count": 25,
      "outputs": [
        {
          "output_type": "execute_result",
          "data": {
            "text/plain": [
              "'c'"
            ],
            "application/vnd.google.colaboratory.intrinsic+json": {
              "type": "string"
            }
          },
          "metadata": {},
          "execution_count": 25
        }
      ]
    },
    {
      "cell_type": "code",
      "source": [
        "lst2=[[1,2,3,4,5],\n",
        "      ('a','b','c','d'),\n",
        "      {1:2,3:4,5:6,7:8,9:0},\n",
        "      True, False, 3.14, -2+7j]\n",
        "lst2[2][5]"
      ],
      "metadata": {
        "colab": {
          "base_uri": "https://localhost:8080/"
        },
        "id": "ppBLcsbQdiUY",
        "outputId": "7f2a122f-c0f0-4a0c-e973-dd3c7a3ec6b6"
      },
      "execution_count": 27,
      "outputs": [
        {
          "output_type": "execute_result",
          "data": {
            "text/plain": [
              "6"
            ]
          },
          "metadata": {},
          "execution_count": 27
        }
      ]
    },
    {
      "cell_type": "code",
      "source": [
        "lst2.extend([{'a':'b','c':'d','e':'f','g':'h'}])\n",
        "lst2.insert(4,lst2.extend([{'a':'b','c':'d','e':'f','g':'h'}]))\n",
        "print(lst2)"
      ],
      "metadata": {
        "colab": {
          "base_uri": "https://localhost:8080/"
        },
        "id": "CeEAULiHdz7V",
        "outputId": "18458ebf-5c2c-4029-bb4f-f75f9fb1964b"
      },
      "execution_count": 35,
      "outputs": [
        {
          "output_type": "stream",
          "name": "stdout",
          "text": [
            "[[1, 2, 3, 4, 5], ('a', 'b', 'c', 'd'), {1: 2, 3: 4, 5: 6, 7: 8, 9: 0}, True, None, None, None, None, None, False, 3.14, (-2+7j), 'a', 'c', 'e', 'g', 'a', 'c', 'e', 'g', 'a', 'c', 'e', 'g', 'a', 'c', 'e', 'g', 'a', 'c', 'e', 'g', 'a', 'c', 'e', 'g', 'a', 'c', 'e', 'g', {'a': 'b', 'c': 'd', 'e': 'f', 'g': 'h'}, {'a': 'b', 'c': 'd', 'e': 'f', 'g': 'h'}, {'a': 'b', 'c': 'd', 'e': 'f', 'g': 'h'}, {'a': 'b', 'c': 'd', 'e': 'f', 'g': 'h'}, {'a': 'b', 'c': 'd', 'e': 'f', 'g': 'h'}]\n"
          ]
        }
      ]
    },
    {
      "cell_type": "code",
      "source": [
        "dict1 = {\n",
        "    'tiger':[\n",
        "        (1,2,3,4,5),['mon','tue','wed'],True,False\n",
        "    ],\n",
        "    {'a':'apple','b':'banana','c':'cat'},\n",
        "    {{1:'a',2:'b',3:'c'},('tree','water','air','fire')}\n",
        "  }"
      ],
      "metadata": {
        "colab": {
          "base_uri": "https://localhost:8080/",
          "height": 222
        },
        "id": "gpS59bqRhCkw",
        "outputId": "032df54a-1d94-4319-a22a-0975193e1a9d"
      },
      "execution_count": 36,
      "outputs": [
        {
          "output_type": "error",
          "ename": "TypeError",
          "evalue": "ignored",
          "traceback": [
            "\u001b[0;31m---------------------------------------------------------------------------\u001b[0m",
            "\u001b[0;31mTypeError\u001b[0m                                 Traceback (most recent call last)",
            "\u001b[0;32m<ipython-input-36-0658d65a9f65>\u001b[0m in \u001b[0;36m<module>\u001b[0;34m\u001b[0m\n\u001b[1;32m      4\u001b[0m     ],\n\u001b[1;32m      5\u001b[0m     \u001b[0;34m{\u001b[0m\u001b[0;34m'a'\u001b[0m\u001b[0;34m:\u001b[0m\u001b[0;34m'apple'\u001b[0m\u001b[0;34m,\u001b[0m\u001b[0;34m'b'\u001b[0m\u001b[0;34m:\u001b[0m\u001b[0;34m'banana'\u001b[0m\u001b[0;34m,\u001b[0m\u001b[0;34m'c'\u001b[0m\u001b[0;34m:\u001b[0m\u001b[0;34m'cat'\u001b[0m\u001b[0;34m}\u001b[0m\u001b[0;34m,\u001b[0m\u001b[0;34m\u001b[0m\u001b[0;34m\u001b[0m\u001b[0m\n\u001b[0;32m----> 6\u001b[0;31m     \u001b[0;34m{\u001b[0m\u001b[0;34m{\u001b[0m\u001b[0;36m1\u001b[0m\u001b[0;34m:\u001b[0m\u001b[0;34m'a'\u001b[0m\u001b[0;34m,\u001b[0m\u001b[0;36m2\u001b[0m\u001b[0;34m:\u001b[0m\u001b[0;34m'b'\u001b[0m\u001b[0;34m,\u001b[0m\u001b[0;36m3\u001b[0m\u001b[0;34m:\u001b[0m\u001b[0;34m'c'\u001b[0m\u001b[0;34m}\u001b[0m\u001b[0;34m,\u001b[0m\u001b[0;34m(\u001b[0m\u001b[0;34m'tree'\u001b[0m\u001b[0;34m,\u001b[0m\u001b[0;34m'water'\u001b[0m\u001b[0;34m,\u001b[0m\u001b[0;34m'air'\u001b[0m\u001b[0;34m,\u001b[0m\u001b[0;34m'fire'\u001b[0m\u001b[0;34m)\u001b[0m\u001b[0;34m}\u001b[0m\u001b[0;34m\u001b[0m\u001b[0;34m\u001b[0m\u001b[0m\n\u001b[0m\u001b[1;32m      7\u001b[0m   }\n",
            "\u001b[0;31mTypeError\u001b[0m: unhashable type: 'dict'"
          ]
        }
      ]
    },
    {
      "cell_type": "code",
      "source": [
        "dict1 = {​​​​​​\n",
        "          'tiger':\n",
        "         [(1,2,3,4,5),['mon','tue','wed'],True,False],  \n",
        "         'lion':{​​​​​​'a':'apple','b':'banana','c':'cat'}​​​​​​,    \n",
        "         'fox':{​​​​​​\"red\":{​​​​​​1:'a',2:'b',3:'c'}​​​​​​,\n",
        "         'blue':('tree','water','air','fire')}​​​​​​\n",
        "         }​​​​​​\n",
        "\n",
        "print(dict1['tiger'])\n",
        "print(dict1['lion'])\n",
        "print(dict1['fox'])\n"
      ],
      "metadata": {
        "colab": {
          "base_uri": "https://localhost:8080/",
          "height": 133
        },
        "id": "th8hFm5PieCO",
        "outputId": "f7d12e96-4a6e-41a4-a51f-495b7c84fd81"
      },
      "execution_count": 39,
      "outputs": [
        {
          "output_type": "error",
          "ename": "SyntaxError",
          "evalue": "ignored",
          "traceback": [
            "\u001b[0;36m  File \u001b[0;32m\"<ipython-input-39-869e070d6cf8>\"\u001b[0;36m, line \u001b[0;32m1\u001b[0m\n\u001b[0;31m    dict1 = {​​​​​​\u001b[0m\n\u001b[0m         ^\u001b[0m\n\u001b[0;31mSyntaxError\u001b[0m\u001b[0;31m:\u001b[0m invalid character in identifier\n"
          ]
        }
      ]
    },
    {
      "cell_type": "code",
      "source": [
        "dict1 = {\n",
        "    'tiger':[\n",
        "     (1,2,3,4,5),['mon','tue','wed'],True,False\n",
        "    ],\n",
        "    'lion':{'a':'apple','b':'banana','c':'cat'},\n",
        "    'fox':{\"red\":{1:'a',2:'b',3:'c'},'blue':('tree','water','air','fire')}\n",
        "  }\n",
        "\n",
        "print(dict1['tiger'])  \n",
        "print(dict1['lion'])\n",
        "print(dict1['fox'])\n",
        "print(dict1['tiger'][0])  \n",
        "print(dict1['tiger'][0][0])  \n",
        "print(dict1['tiger'][0][1])  \n",
        "print(dict1['tiger'][0][2])  \n",
        "print(dict1['tiger'][0][3])  \n",
        "print(dict1['tiger'][0][4])  \n",
        "print(dict1['tiger'][1])  \n",
        "print(dict1['tiger'][1][0])  \n",
        "print(dict1['tiger'][1][1])  \n",
        "print(dict1['tiger'][1][2])  \n",
        "print(dict1['tiger'][2])\n",
        "print(dict1['tiger'][3])  \n",
        "print(dict1['lion']['a'])\n",
        "print(dict1['lion']['b'])\n",
        "print(dict1['lion']['c'])\n",
        "print(dict1['fox']['red'])\n",
        "print(dict1['fox']['red'][1])\n",
        "print(dict1['fox']['red'][2])\n",
        "print(dict1['fox']['red'][3])\n",
        "print(dict1['fox']['blue'])\n",
        "print(dict1['fox']['blue'][0])\n",
        "print(dict1['fox']['blue'][1])\n",
        "print(dict1['fox']['blue'][2])\n",
        "print(dict1['fox']['blue'][3])"
      ],
      "metadata": {
        "colab": {
          "base_uri": "https://localhost:8080/"
        },
        "id": "24VnusHhkz9T",
        "outputId": "8141b821-95a7-4e71-c295-22de6c5e25a4"
      },
      "execution_count": 45,
      "outputs": [
        {
          "output_type": "stream",
          "name": "stdout",
          "text": [
            "[(1, 2, 3, 4, 5), ['mon', 'tue', 'wed'], True, False]\n",
            "{'a': 'apple', 'b': 'banana', 'c': 'cat'}\n",
            "{'red': {1: 'a', 2: 'b', 3: 'c'}, 'blue': ('tree', 'water', 'air', 'fire')}\n",
            "(1, 2, 3, 4, 5)\n",
            "1\n",
            "2\n",
            "3\n",
            "4\n",
            "5\n",
            "['mon', 'tue', 'wed']\n",
            "mon\n",
            "tue\n",
            "wed\n",
            "True\n",
            "False\n",
            "apple\n",
            "banana\n",
            "cat\n",
            "{1: 'a', 2: 'b', 3: 'c'}\n",
            "a\n",
            "b\n",
            "c\n",
            "('tree', 'water', 'air', 'fire')\n",
            "tree\n",
            "water\n",
            "air\n",
            "fire\n"
          ]
        }
      ]
    },
    {
      "cell_type": "code",
      "source": [
        "tup3 = (lst2,tup1,dict1)\n",
        "tup3"
      ],
      "metadata": {
        "colab": {
          "base_uri": "https://localhost:8080/"
        },
        "id": "38I-ep-hl1mB",
        "outputId": "5e1487d0-9da6-4806-b6f2-eb86309775c3"
      },
      "execution_count": 47,
      "outputs": [
        {
          "output_type": "execute_result",
          "data": {
            "text/plain": [
              "([[1, 2, 3, 4, 5],\n",
              "  ('a', 'b', 'c', 'd'),\n",
              "  {1: 2, 3: 4, 5: 6, 7: 8, 9: 0},\n",
              "  True,\n",
              "  None,\n",
              "  None,\n",
              "  None,\n",
              "  None,\n",
              "  None,\n",
              "  False,\n",
              "  3.14,\n",
              "  (-2+7j),\n",
              "  'a',\n",
              "  'c',\n",
              "  'e',\n",
              "  'g',\n",
              "  'a',\n",
              "  'c',\n",
              "  'e',\n",
              "  'g',\n",
              "  'a',\n",
              "  'c',\n",
              "  'e',\n",
              "  'g',\n",
              "  'a',\n",
              "  'c',\n",
              "  'e',\n",
              "  'g',\n",
              "  'a',\n",
              "  'c',\n",
              "  'e',\n",
              "  'g',\n",
              "  'a',\n",
              "  'c',\n",
              "  'e',\n",
              "  'g',\n",
              "  'a',\n",
              "  'c',\n",
              "  'e',\n",
              "  'g',\n",
              "  {'a': 'b', 'c': 'd', 'e': 'f', 'g': 'h'},\n",
              "  {'a': 'b', 'c': 'd', 'e': 'f', 'g': 'h'},\n",
              "  {'a': 'b', 'c': 'd', 'e': 'f', 'g': 'h'},\n",
              "  {'a': 'b', 'c': 'd', 'e': 'f', 'g': 'h'},\n",
              "  {'a': 'b', 'c': 'd', 'e': 'f', 'g': 'h'}],\n",
              " ('monday', 'tuesday', 'wednesday', 'thursday', 'friday'),\n",
              " {'tiger': [(1, 2, 3, 4, 5), ['mon', 'tue', 'wed'], True, False],\n",
              "  'lion': {'a': 'apple', 'b': 'banana', 'c': 'cat'},\n",
              "  'fox': {'red': {1: 'a', 2: 'b', 3: 'c'},\n",
              "   'blue': ('tree', 'water', 'air', 'fire')}})"
            ]
          },
          "metadata": {},
          "execution_count": 47
        }
      ]
    },
    {
      "cell_type": "code",
      "source": [
        "(['apple', 'banana', 'cherry', 'dates', 'eggfruit', 'fig', 'grapes', 'honeyfruit', 'icefruit', 'jackfruit'], [[1, 2, 3, 4, 5], ('a', 'b', 'c', 'd'), {​​​​​​​​1: 2, 3: 4, 5: 6, 7: 8, 9: 0}​​​​​​​​, True, False, 3.14, (-2+7j), {​​​​​​​​1: 11, 2: 22, 3: 33, 4: 44, 5: 55}​​​​​​​​], ('monday', 'tuesday', 'wednesday', 'thursday', 'friday'), ([1, 2, 3, 4, 5], {​​​​​​​​'a': 'apple', 'b': 'ball', 'c': 'cat'}​​​​​​​​, (11, 22, 33, 44, 55), True, False, False, True, [[1, 2, 3, 4, 5], {​​​​​​​​'a': 'apple', 'b': 'ball', 'c': 'cat'}​​​​​​​​, (11, 22, 33, 44, 55), True, False, False, True]), {​​​​​​​​'tiger': [(1, 2, 3, 4, 5), ['mon', 'tue', 'wed'], True, False], 'lion': {​​​​​​​​'a': 'apple', 'b': 'banana', 'c': 'cat'}​​​​​​​​, 'fox': {​​​​​​​​'red': {​​​​​​​​1: 'a', 2: 'b', 3: 'c'}​​​​​​​​, 'blue': ('tree', 'water', 'air', 'fire')}​​​​​​​​}​​​​​​​​)\n",
        "<https://teams.microsoft.com/l/message/19:FnR76Zs5RYrxCOU9MAhZn4ZdUx5szl0eRuglRsXLRN01@thread.tacv2/1663118594386?tenantId=fd958fff-96e9-4da8-91d5-1c885155e361&amp;groupId=66643da4-49ed-4f94-a935-4cafdfcf8e54&amp;parentMessageId=1662313791819&amp;teamName=DSE2 Data Science and Data Engineering Bootcamp - Takeo&amp;channelName=General&amp;createdTime=1663118594386&amp;allowXTenantAccess=false>"
      ],
      "metadata": {
        "id": "BSy82iE_mQ_2"
      },
      "execution_count": null,
      "outputs": []
    }
  ]
}