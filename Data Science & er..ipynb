{
  "nbformat": 4,
  "nbformat_minor": 0,
  "metadata": {
    "colab": {
      "provenance": [],
      "authorship_tag": "ABX9TyMwKjEFDucqf1SV8JaPk0tS",
      "include_colab_link": true
    },
    "kernelspec": {
      "name": "python3",
      "display_name": "Python 3"
    },
    "language_info": {
      "name": "python"
    }
  },
  "cells": [
    {
      "cell_type": "markdown",
      "metadata": {
        "id": "view-in-github",
        "colab_type": "text"
      },
      "source": [
        "<a href=\"https://colab.research.google.com/github/codercamelot/CV/blob/main/Data%20Science%20%26%20er..ipynb\" target=\"_parent\"><img src=\"https://colab.research.google.com/assets/colab-badge.svg\" alt=\"Open In Colab\"/></a>"
      ]
    },
    {
      "cell_type": "code",
      "source": [
        "!pip install torch"
      ],
      "metadata": {
        "colab": {
          "base_uri": "https://localhost:8080/"
        },
        "id": "TM6tP-FtjL_a",
        "outputId": "489feb35-10b3-4032-a49e-d44bf59b4689"
      },
      "execution_count": 29,
      "outputs": [
        {
          "output_type": "stream",
          "name": "stdout",
          "text": [
            "Looking in indexes: https://pypi.org/simple, https://us-python.pkg.dev/colab-wheels/public/simple/\n",
            "Requirement already satisfied: torch in /usr/local/lib/python3.7/dist-packages (1.12.1+cu113)\n",
            "Requirement already satisfied: typing-extensions in /usr/local/lib/python3.7/dist-packages (from torch) (4.1.1)\n"
          ]
        }
      ]
    },
    {
      "cell_type": "code",
      "source": [
        "import torch\n"
      ],
      "metadata": {
        "colab": {
          "base_uri": "https://localhost:8080/",
          "height": 169
        },
        "id": "lYqz0g5RjXf0",
        "outputId": "8cda7b1b-597e-46e0-fcac-7be6c9985c6e"
      },
      "execution_count": 27,
      "outputs": [
        {
          "output_type": "error",
          "ename": "NameError",
          "evalue": "ignored",
          "traceback": [
            "\u001b[0;31m---------------------------------------------------------------------------\u001b[0m",
            "\u001b[0;31mNameError\u001b[0m                                 Traceback (most recent call last)",
            "\u001b[0;32m<ipython-input-27-96072c2f67f2>\u001b[0m in \u001b[0;36m<module>\u001b[0;34m\u001b[0m\n\u001b[0;32m----> 1\u001b[0;31m \u001b[0mtensor\u001b[0m \u001b[0;34m=\u001b[0m \u001b[0mtorch\u001b[0m\u001b[0;34m.\u001b[0m\u001b[0mcos\u001b[0m\u001b[0;34m(\u001b[0m\u001b[0;34m)\u001b[0m\u001b[0;34m\u001b[0m\u001b[0;34m\u001b[0m\u001b[0m\n\u001b[0m",
            "\u001b[0;31mNameError\u001b[0m: name 'torch' is not defined"
          ]
        }
      ]
    },
    {
      "cell_type": "code",
      "source": [
        "tensor = torch.cos()"
      ],
      "metadata": {
        "colab": {
          "base_uri": "https://localhost:8080/",
          "height": 169
        },
        "id": "sNBeU6jHkdP0",
        "outputId": "39ae171c-caee-4856-bc0b-afff3d2220e5"
      },
      "execution_count": 30,
      "outputs": [
        {
          "output_type": "error",
          "ename": "NameError",
          "evalue": "ignored",
          "traceback": [
            "\u001b[0;31m---------------------------------------------------------------------------\u001b[0m",
            "\u001b[0;31mNameError\u001b[0m                                 Traceback (most recent call last)",
            "\u001b[0;32m<ipython-input-30-96072c2f67f2>\u001b[0m in \u001b[0;36m<module>\u001b[0;34m\u001b[0m\n\u001b[0;32m----> 1\u001b[0;31m \u001b[0mtensor\u001b[0m \u001b[0;34m=\u001b[0m \u001b[0mtorch\u001b[0m\u001b[0;34m.\u001b[0m\u001b[0mcos\u001b[0m\u001b[0;34m(\u001b[0m\u001b[0;34m)\u001b[0m\u001b[0;34m\u001b[0m\u001b[0;34m\u001b[0m\u001b[0m\n\u001b[0m",
            "\u001b[0;31mNameError\u001b[0m: name 'torch' is not defined"
          ]
        }
      ]
    },
    {
      "cell_type": "code",
      "execution_count": 3,
      "metadata": {
        "colab": {
          "base_uri": "https://localhost:8080/"
        },
        "id": "f1TWUpZKdNbK",
        "outputId": "2d8e3c5b-8ac8-45c1-c4a5-9c4475ed6318"
      },
      "outputs": [
        {
          "output_type": "stream",
          "name": "stdout",
          "text": [
            "@@@@@@@@@@@@@@@@@@@@@@@@@@@@@@@@@@@@@@@@@python programming@@@@@@@@@@@@@@@@@@@@@@@@@@@@@@@@@@@@@@@@@\n"
          ]
        }
      ],
      "source": [
        "str1 = \"python programming\"\n",
        "print(str1.center(100,'@'))"
      ]
    },
    {
      "cell_type": "code",
      "source": [
        "\n",
        "str1 = \"python programming\"\n",
        "str1.count('p')"
      ],
      "metadata": {
        "colab": {
          "base_uri": "https://localhost:8080/"
        },
        "id": "hucNNV8-d1Nc",
        "outputId": "ecc8d34e-a332-4ece-b3c1-baebb6307321"
      },
      "execution_count": 7,
      "outputs": [
        {
          "output_type": "execute_result",
          "data": {
            "text/plain": [
              "2"
            ]
          },
          "metadata": {},
          "execution_count": 7
        }
      ]
    },
    {
      "cell_type": "code",
      "source": [
        "str1.count('p',0,6)"
      ],
      "metadata": {
        "colab": {
          "base_uri": "https://localhost:8080/"
        },
        "id": "lj6C8EJgejap",
        "outputId": "c055da32-94bf-4a73-a10d-0ff3bcff39e4"
      },
      "execution_count": 8,
      "outputs": [
        {
          "output_type": "execute_result",
          "data": {
            "text/plain": [
              "1"
            ]
          },
          "metadata": {},
          "execution_count": 8
        }
      ]
    },
    {
      "cell_type": "code",
      "source": [
        "from os import name\n",
        "x = \"Selling price of product is {price:.2f} rupees\"\n",
        "\n",
        "print(x.format(price = 77))\n",
        "\n",
        "x = \"My name is {fname}. My age is {age}.\"\n",
        "print(x.format(fname='Camelot',age = 45))\n",
        "\n",
        "x = '{countryName} is my country.'\n",
        "print(x.format(countryName='India'))\n",
        "#print(x.format(fname = 'sjkhfkjh',age=45)"
      ],
      "metadata": {
        "colab": {
          "base_uri": "https://localhost:8080/"
        },
        "id": "TYs3GLbuk8z7",
        "outputId": "b32c4448-ca6e-4805-f11c-99311790c82a"
      },
      "execution_count": 71,
      "outputs": [
        {
          "output_type": "stream",
          "name": "stdout",
          "text": [
            "Selling price of product is 77.00 rupees\n",
            "My name is Camelot. My age is 45.\n",
            "India is my country.\n"
          ]
        }
      ]
    },
    {
      "cell_type": "code",
      "source": [
        "str1.count('m',0,14)"
      ],
      "metadata": {
        "colab": {
          "base_uri": "https://localhost:8080/"
        },
        "id": "Wfr2iQPketoX",
        "outputId": "a4904430-aa79-4681-e7ba-1d5cc4fc6676"
      },
      "execution_count": 10,
      "outputs": [
        {
          "output_type": "execute_result",
          "data": {
            "text/plain": [
              "1"
            ]
          },
          "metadata": {},
          "execution_count": 10
        }
      ]
    },
    {
      "cell_type": "code",
      "source": [
        "str1.count('i',)"
      ],
      "metadata": {
        "id": "Kk93cwpberCn"
      },
      "execution_count": null,
      "outputs": []
    },
    {
      "cell_type": "code",
      "source": [
        "str1 = \"python programming\"\n",
        "str1 = '@#4'\n",
        "str1.encode()\n",
        "str1.endswith('G')\n"
      ],
      "metadata": {
        "colab": {
          "base_uri": "https://localhost:8080/"
        },
        "id": "T8tY6nFPfX5A",
        "outputId": "66ec54a0-1453-46cf-c4ae-e154ee2d9b54"
      },
      "execution_count": 18,
      "outputs": [
        {
          "output_type": "execute_result",
          "data": {
            "text/plain": [
              "False"
            ]
          },
          "metadata": {},
          "execution_count": 18
        }
      ]
    },
    {
      "cell_type": "code",
      "source": [
        "str1.endswith('g')\n"
      ],
      "metadata": {
        "colab": {
          "base_uri": "https://localhost:8080/"
        },
        "id": "2BMp9ZS1fdCj",
        "outputId": "7dfea212-e2e5-4bab-91b2-3f6372b277e0"
      },
      "execution_count": 19,
      "outputs": [
        {
          "output_type": "execute_result",
          "data": {
            "text/plain": [
              "False"
            ]
          },
          "metadata": {},
          "execution_count": 19
        }
      ]
    },
    {
      "cell_type": "code",
      "source": [
        "str1 = 'p\\ty\\tt\\th\\to\\tn'\n",
        "str1.expandtabs(5)\n",
        "str1.expandtabs(15)"
      ],
      "metadata": {
        "colab": {
          "base_uri": "https://localhost:8080/",
          "height": 35
        },
        "id": "ACI7zGxQhcgA",
        "outputId": "768e426d-1ea2-4888-9a09-53adb0087bdd"
      },
      "execution_count": 22,
      "outputs": [
        {
          "output_type": "execute_result",
          "data": {
            "text/plain": [
              "'p              y              t              h              o              n'"
            ],
            "application/vnd.google.colaboratory.intrinsic+json": {
              "type": "string"
            }
          },
          "metadata": {},
          "execution_count": 22
        }
      ]
    },
    {
      "cell_type": "code",
      "source": [
        "str1 = 'python programming'\n",
        "str1.find('p')\n",
        "str1.find(\"p\",7,len(str1))\n",
        "str1.find(\"r\",7,len(str1))\n",
        "str1.find(\"r\",10,)"
      ],
      "metadata": {
        "colab": {
          "base_uri": "https://localhost:8080/"
        },
        "id": "Ndqd5-Exh7Ni",
        "outputId": "a7bc00dc-cf11-426a-fa30-731abfc07699"
      },
      "execution_count": 54,
      "outputs": [
        {
          "output_type": "execute_result",
          "data": {
            "text/plain": [
              "11"
            ]
          },
          "metadata": {},
          "execution_count": 54
        }
      ]
    },
    {
      "cell_type": "markdown",
      "source": [],
      "metadata": {
        "id": "jKy52N2hr-DT"
      }
    },
    {
      "cell_type": "code",
      "source": [
        "print('Every {0} should know the use of {1}{2} programming and {3}'.\n",
        "      format(\"prgrammer\",\"open\",\"source\",\"operating systems\"))\n",
        "print('Every {1} should know the use of {0}{2} programming and {3}'.\n",
        "      format(\"prgrammer\",\"open\",\"source\",\"operating systems\"))\n",
        "\n",
        "#fill_in_the_blanks = [\"programmer\",\"open\",\"source\",\"operating systems\"]\n",
        "#fill_in_the_blanks.print(('Every '[o]'should know the use of'[1]'programming and [3].'))\n",
        "\n",
        "a = {'x':\"jack\", 'y':\"jill\"}\n",
        "print(\"{x} and {y} went up the hill.\".format_map(a))"
      ],
      "metadata": {
        "colab": {
          "base_uri": "https://localhost:8080/"
        },
        "id": "yHEnnECNrha6",
        "outputId": "a9f1de86-b63f-423d-ce94-b6ba7e7b1e1c"
      },
      "execution_count": 55,
      "outputs": [
        {
          "output_type": "stream",
          "name": "stdout",
          "text": [
            "Every prgrammer should know the use of opensource programming and operating systems\n",
            "Every open should know the use of prgrammersource programming and operating systems\n",
            "jack and jill went up the hill.\n"
          ]
        }
      ]
    },
    {
      "cell_type": "code",
      "source": [
        "a = {'p':\"programmer\", 'q':\"Open\", 'r':\"Source\", 's':\"Operating Systems\"}\n",
        "print(\"Every {p} should know the use of {q} {r} programming and {s}.\".format_map(a))\n",
        "\n",
        " \n",
        "\n",
        "a = {'p':\"programmer\", 'q':\"Open\", 'r':\"Source\", 's':\"Operating Systems\"}\n",
        "print(\"Every {q} should know the use of {r} {s} programming and {p}.\".format_map(a))\n",
        "\n",
        " \n",
        "\n",
        "a = {'p':\"programmer\", 'q':\"Open\", 'r':\"Source\", 's':\"Operating Systems\"}\n",
        "print(\"Every {r} should know the use of {s} {p} programming and {q}.\".format_map(a))\n",
        "\n",
        " \n",
        "\n",
        "a = {'p':\"programmer\", 'q':\"Open\", 'r':\"Source\", 's':\"Operating Systems\"}\n",
        "print(\"Every {s} should know the use of {p} {q} programming and {r}.\".format_map(a))\n",
        "\n",
        " \n",
        "\n",
        "a = {'p':\"programmer\", 'q':\"Open\", 'r':\"Source\", 's':\"Operating Systems\"}\n",
        "print(\"Every {s} should know the use of {r} {q} programming and {p}\".format_map(a))"
      ],
      "metadata": {
        "colab": {
          "base_uri": "https://localhost:8080/"
        },
        "id": "ViQtaPJxrx0a",
        "outputId": "23c4d142-61cb-4209-9719-2341a0caeb8f"
      },
      "execution_count": 56,
      "outputs": [
        {
          "output_type": "stream",
          "name": "stdout",
          "text": [
            "Every programmer should know the use of Open Source programming and Operating Systems.\n",
            "Every Open should know the use of Source Operating Systems programming and programmer.\n",
            "Every Source should know the use of Operating Systems programmer programming and Open.\n",
            "Every Operating Systems should know the use of programmer Open programming and Source.\n",
            "Every Operating Systems should know the use of Source Open programming and programmer\n"
          ]
        }
      ]
    },
    {
      "cell_type": "code",
      "source": [
        "str1 = 'Python Programming'\n",
        "str1.index('p')\n",
        "str1.index('g')\n",
        "str1.index('m')\n",
        "str1.index('p',7,len(str1))\n",
        "str1.index('m',14,len(str1)"
      ],
      "metadata": {
        "colab": {
          "base_uri": "https://localhost:8080/",
          "height": 133
        },
        "id": "tLAM-SOhsQng",
        "outputId": "d44569be-2d01-40fe-ddef-d483f2ccb03c"
      },
      "execution_count": 59,
      "outputs": [
        {
          "output_type": "error",
          "ename": "SyntaxError",
          "evalue": "ignored",
          "traceback": [
            "\u001b[0;36m  File \u001b[0;32m\"<ipython-input-59-7cc5b64c0ea6>\"\u001b[0;36m, line \u001b[0;32m6\u001b[0m\n\u001b[0;31m    str1.index('m',14,len(str1)\u001b[0m\n\u001b[0m                               ^\u001b[0m\n\u001b[0;31mSyntaxError\u001b[0m\u001b[0;31m:\u001b[0m unexpected EOF while parsing\n"
          ]
        }
      ]
    },
    {
      "cell_type": "code",
      "source": [
        "str1 = 'abcdefghij'\n",
        "str1.index('i',8,len(str1))\n",
        "str1.index('h',5,10)\n",
        "str1.index()"
      ],
      "metadata": {
        "colab": {
          "base_uri": "https://localhost:8080/"
        },
        "id": "prPjqonZt4id",
        "outputId": "c459e890-8a9e-4619-90c8-467a57f2153b"
      },
      "execution_count": 64,
      "outputs": [
        {
          "output_type": "execute_result",
          "data": {
            "text/plain": [
              "7"
            ]
          },
          "metadata": {},
          "execution_count": 64
        }
      ]
    },
    {
      "cell_type": "code",
      "source": [
        "str1 = \"12345\"\n",
        "str1.isalnum()"
      ],
      "metadata": {
        "colab": {
          "base_uri": "https://localhost:8080/"
        },
        "id": "PcTmXAVawb3E",
        "outputId": "1ef0d077-23fa-4c13-d457-f2d8154b5fde"
      },
      "execution_count": 65,
      "outputs": [
        {
          "output_type": "execute_result",
          "data": {
            "text/plain": [
              "True"
            ]
          },
          "metadata": {},
          "execution_count": 65
        }
      ]
    },
    {
      "cell_type": "code",
      "source": [
        "str1 = 'python'\n",
        "str1.isalpha()"
      ],
      "metadata": {
        "colab": {
          "base_uri": "https://localhost:8080/"
        },
        "id": "A4KlcXngwhsb",
        "outputId": "0830166e-5a09-4b38-898c-f22aeb62af74"
      },
      "execution_count": 66,
      "outputs": [
        {
          "output_type": "execute_result",
          "data": {
            "text/plain": [
              "True"
            ]
          },
          "metadata": {},
          "execution_count": 66
        }
      ]
    },
    {
      "cell_type": "code",
      "source": [
        "str1 = '#4dfhjhf'\n",
        "str1.isascii()"
      ],
      "metadata": {
        "colab": {
          "base_uri": "https://localhost:8080/"
        },
        "id": "UAcSFIzownR2",
        "outputId": "0facfaf2-9978-442b-d599-9755e020e32d"
      },
      "execution_count": 69,
      "outputs": [
        {
          "output_type": "execute_result",
          "data": {
            "text/plain": [
              "True"
            ]
          },
          "metadata": {},
          "execution_count": 69
        }
      ]
    }
  ]
}